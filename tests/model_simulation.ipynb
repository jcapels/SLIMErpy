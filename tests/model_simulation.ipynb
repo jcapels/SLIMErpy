{
 "cells": [
  {
   "cell_type": "code",
   "execution_count": 1,
   "metadata": {
    "pycharm": {
     "name": "#%%\n"
    }
   },
   "outputs": [],
   "source": [
    "import cobra\n",
    "from cobra import io, flux_analysis\n",
    "import os\n",
    "#import pubchempy as pcp\n",
    "#os.chdir(r\"C:\\Users\\Bisbii\\OneDrive - Universidade do Minho\\Models\")"
   ]
  },
  {
   "cell_type": "code",
   "execution_count": 123,
   "metadata": {
    "pycharm": {
     "name": "#%%\n"
    }
   },
   "outputs": [],
   "source": [
    "model = cobra.io.read_sbml_model(\"yeast_lipidomics.xml\")"
   ]
  },
  {
   "cell_type": "code",
   "execution_count": 124,
   "outputs": [],
   "source": [
    "def get_reaction_reactants_and_products(reaction):\n",
    "    reactants = []\n",
    "    products = []\n",
    "    for metabolite in reaction.metabolites:\n",
    "        if reaction.metabolites[metabolite] < 0:\n",
    "            reactants.append(metabolite)\n",
    "        else:\n",
    "            products.append(metabolite)\n",
    "\n",
    "    return reactants, products"
   ],
   "metadata": {
    "collapsed": false,
    "pycharm": {
     "name": "#%%\n"
    }
   }
  },
  {
   "cell_type": "code",
   "execution_count": 125,
   "metadata": {
    "scrolled": true,
    "pycharm": {
     "name": "#%%\n"
    }
   },
   "outputs": [
    {
     "data": {
      "text/plain": "<Solution 170.312 at 0x7f0812a9d090>",
      "text/html": "<strong><em>Optimal</em> solution with objective value 170.312</strong><br><div>\n<style scoped>\n    .dataframe tbody tr th:only-of-type {\n        vertical-align: middle;\n    }\n\n    .dataframe tbody tr th {\n        vertical-align: top;\n    }\n\n    .dataframe thead th {\n        text-align: right;\n    }\n</style>\n<table border=\"1\" class=\"dataframe\">\n  <thead>\n    <tr style=\"text-align: right;\">\n      <th></th>\n      <th>fluxes</th>\n      <th>reduced_costs</th>\n    </tr>\n  </thead>\n  <tbody>\n    <tr>\n      <th>r_0001</th>\n      <td>0.000000</td>\n      <td>0.000000</td>\n    </tr>\n    <tr>\n      <th>r_0002</th>\n      <td>0.000000</td>\n      <td>-2.000000</td>\n    </tr>\n    <tr>\n      <th>r_0003</th>\n      <td>0.000000</td>\n      <td>-2.000000</td>\n    </tr>\n    <tr>\n      <th>r_0004</th>\n      <td>0.000000</td>\n      <td>-2.000000</td>\n    </tr>\n    <tr>\n      <th>r_0005</th>\n      <td>0.086385</td>\n      <td>-2.000000</td>\n    </tr>\n    <tr>\n      <th>...</th>\n      <td>...</td>\n      <td>...</td>\n    </tr>\n    <tr>\n      <th>r_4412</th>\n      <td>0.000000</td>\n      <td>52018.482587</td>\n    </tr>\n    <tr>\n      <th>r_4413</th>\n      <td>0.000000</td>\n      <td>89285.388998</td>\n    </tr>\n    <tr>\n      <th>r_4414</th>\n      <td>0.000000</td>\n      <td>114950.651367</td>\n    </tr>\n    <tr>\n      <th>r_4415</th>\n      <td>0.000000</td>\n      <td>178977.778852</td>\n    </tr>\n    <tr>\n      <th>r_2108</th>\n      <td>0.093228</td>\n      <td>-2.000000</td>\n    </tr>\n  </tbody>\n</table>\n<p>3784 rows × 2 columns</p>\n</div>"
     },
     "execution_count": 125,
     "metadata": {},
     "output_type": "execute_result"
    }
   ],
   "source": [
    "sol = cobra.flux_analysis.pfba(model)\n",
    "sol"
   ]
  },
  {
   "cell_type": "code",
   "execution_count": 126,
   "outputs": [],
   "source": [
    "slime_reactions = []\n",
    "for reaction in model.reactions:\n",
    "    if \"SLIME\" in reaction.name:\n",
    "        slime_reactions.append(reaction.id)"
   ],
   "metadata": {
    "collapsed": false,
    "pycharm": {
     "name": "#%%\n"
    }
   }
  },
  {
   "cell_type": "code",
   "execution_count": 127,
   "outputs": [
    {
     "name": "stdout",
     "output_type": "stream",
     "text": [
      "1-phosphatidyl-1D-myo-inositol (1-16:0, 2-16:1) [cytoplasm] SLIME rxn\n",
      "1-phosphatidyl-1D-myo-inositol (1-16:1, 2-16:1) [cytoplasm] SLIME rxn\n",
      "ergosteryl oleate [endoplasmic reticulum membrane] SLIME rxn\n",
      "stearate [cytoplasm] SLIME rxn\n",
      "oleate [cytoplasm] SLIME rxn\n",
      "phosphatidyl-L-serine (1-16:1, 2-16:1) [endoplasmic reticulum membrane] SLIME rxn\n",
      "phosphatidylcholine (1-16:1, 2-16:1) [endoplasmic reticulum membrane] SLIME rxn\n",
      "phosphatidylcholine (1-16:0, 2-18:1) [endoplasmic reticulum membrane] SLIME rxn\n",
      "phosphatidylethanolamine (1-16:1, 2-16:1) [endoplasmic reticulum membrane] SLIME rxn\n",
      "triglyceride (1-16:0, 2-18:1, 3-16:0) [endoplasmic reticulum membrane] SLIME rxn\n",
      "triglyceride (1-18:0, 2-18:1, 3-18:0) [endoplasmic reticulum membrane] SLIME rxn\n",
      "triglyceride (1-18:0, 2-16:1, 3-18:1) [endoplasmic reticulum membrane] SLIME rxn\n",
      "phosphatidylcholine (1-16:0, 2-16:1) [endoplasmic reticulum membrane] SLIME rxn\n"
     ]
    }
   ],
   "source": [
    "for reaction in slime_reactions:\n",
    "    if sol.to_frame().loc[reaction, \"fluxes\"] > 0:\n",
    "        print(model.reactions.get_by_id(reaction).name)"
   ],
   "metadata": {
    "collapsed": false,
    "pycharm": {
     "name": "#%%\n"
    }
   }
  },
  {
   "cell_type": "code",
   "execution_count": 106,
   "outputs": [
    {
     "data": {
      "text/plain": "27.661973440776222"
     },
     "execution_count": 106,
     "metadata": {},
     "output_type": "execute_result"
    }
   ],
   "source": [
    "sol[\"r_4228\"]"
   ],
   "metadata": {
    "collapsed": false,
    "pycharm": {
     "name": "#%%\n"
    }
   }
  },
  {
   "cell_type": "code",
   "execution_count": 128,
   "outputs": [],
   "source": [
    "sol_fba = model.optimize()"
   ],
   "metadata": {
    "collapsed": false,
    "pycharm": {
     "name": "#%%\n"
    }
   }
  },
  {
   "cell_type": "code",
   "execution_count": 129,
   "outputs": [
    {
     "name": "stdout",
     "output_type": "stream",
     "text": [
      "ergosteryl oleate [endoplasmic reticulum membrane] SLIME rxn\n",
      "0.0005051341918858265\n",
      "stearate [cytoplasm] SLIME rxn\n",
      "0.00025377881921064303\n",
      "oleate [cytoplasm] SLIME rxn\n",
      "2.436734135231305e-06\n",
      "phosphatidyl-L-serine (1-16:1, 2-16:1) [endoplasmic reticulum membrane] SLIME rxn\n",
      "0.00039892644210795574\n",
      "phosphatidylcholine (1-16:0, 2-16:1) [endoplasmic reticulum membrane] SLIME rxn\n",
      "0.0005301531492074693\n",
      "phosphatidylcholine (1-16:1, 2-16:1) [endoplasmic reticulum membrane] SLIME rxn\n",
      "0.0011278645892237589\n",
      "phosphatidylcholine (1-16:0, 2-18:1) [endoplasmic reticulum membrane] SLIME rxn\n",
      "7.060558964749148e-05\n",
      "phosphatidylethanolamine (1-16:1, 2-16:1) [endoplasmic reticulum membrane] SLIME rxn\n",
      "0.0004942399758622675\n",
      "triglyceride (1-16:0, 2-18:1, 3-16:0) [endoplasmic reticulum membrane] SLIME rxn\n",
      "0.0004037385539625024\n",
      "1-phosphatidyl-1D-myo-inositol (1-16:1, 2-16:1) [cytoplasm] SLIME rxn\n",
      "0.0004201596756531305\n"
     ]
    }
   ],
   "source": [
    "for reaction in slime_reactions:\n",
    "    if sol_fba[reaction] > 0:\n",
    "        print(model.reactions.get_by_id(reaction).name)\n",
    "        print(sol_fba[reaction])"
   ],
   "metadata": {
    "collapsed": false,
    "pycharm": {
     "name": "#%%\n"
    }
   }
  },
  {
   "cell_type": "code",
   "execution_count": 143,
   "metadata": {
    "pycharm": {
     "name": "#%%\n"
    }
   },
   "outputs": [],
   "source": [
    "fva = cobra.flux_analysis.flux_variability_analysis(model, fraction_of_optimum=1, reaction_list=slime_reactions + [\"r_2111\"])"
   ]
  },
  {
   "cell_type": "code",
   "execution_count": 144,
   "outputs": [],
   "source": [
    "backbones_abundances = {}\n",
    "\n",
    "for reaction in slime_reactions:\n",
    "    if fva.loc[reaction, \"maximum\"] > 0:\n",
    "\n",
    "        reaction = model.reactions.get_by_id(reaction)\n",
    "        reactants, products = get_reaction_reactants_and_products(reaction)\n",
    "        chains = {}\n",
    "        backbone = \"\"\n",
    "        for product in products:\n",
    "            if \"chain\" in product.name:\n",
    "                stoichiometry = reaction.get_coefficient(product)\n",
    "                minimum = stoichiometry * fva.loc[reaction.id, \"minimum\"] / fva.loc[\"r_2111\", \"minimum\"]\n",
    "                maximum = stoichiometry * fva.loc[reaction.id, \"maximum\"] / fva.loc[\"r_2111\", \"maximum\"]\n",
    "                if product.name not in chains:\n",
    "                    chains[product.name] = {\"minimum\": minimum, \"maximum\": maximum}\n",
    "                else:\n",
    "                    chains[product.name][\"minimum\"] += minimum\n",
    "                    chains[product.name][\"maximum\"] += maximum\n",
    "            else:\n",
    "                backbone = product.name\n",
    "\n",
    "        if backbone not in backbones_abundances:\n",
    "            backbones_abundances[backbone] = chains\n",
    "        else:\n",
    "            for chain in chains:\n",
    "                if chain not in backbones_abundances[backbone]:\n",
    "                    backbones_abundances[backbone][chain] = chains[chain]\n",
    "                else:\n",
    "                    backbones_abundances[backbone][chain][\"minimum\"] += chains[chain][\"minimum\"]\n",
    "                    backbones_abundances[backbone][chain][\"maximum\"] += chains[chain][\"maximum\"]\n"
   ],
   "metadata": {
    "collapsed": false,
    "pycharm": {
     "name": "#%%\n"
    }
   }
  },
  {
   "cell_type": "code",
   "execution_count": 145,
   "outputs": [
    {
     "data": {
      "text/plain": "{'1-phosphatidyl-1D-myo-inositol [cytoplasm]': {'C16:1 chain [cytoplasm]': {'minimum': 0.0,\n   'maximum': 2.293141112272747}},\n 'ergosterol ester [cytoplasm]': {'C18:1 chain [cytoplasm]': {'minimum': 0.0,\n   'maximum': 3.0609139339303466}},\n 'fatty acid [cytoplasm]': {'C18:0 chain [cytoplasm]': {'minimum': 0.0,\n   'maximum': 1.5487745525606211},\n  'C18:1 chain [cytoplasm]': {'minimum': 0.0, 'maximum': 0.01476564686119218}},\n 'phosphatidyl-L-serine [cytoplasm]': {'C16:1 chain [cytoplasm]': {'minimum': 0.0,\n   'maximum': 2.177254691917783}},\n 'phosphatidylcholine [cytoplasm]': {'C16:0 chain [cytoplasm]': {'minimum': 0.0,\n   'maximum': 3.3047925919009544},\n  'C16:1 chain [cytoplasm]': {'minimum': 0.0, 'maximum': 9.049104073803514},\n  'C18:1 chain [cytoplasm]': {'minimum': 0.0, 'maximum': 0.4278420192515827}},\n 'phosphatidylethanolamine [cytoplasm]': {'C16:1 chain [cytoplasm]': {'minimum': 0.0,\n   'maximum': 2.6974554524221195}},\n 'triglyceride [cytoplasm]': {'C16:0 chain [cytoplasm]': {'minimum': 0.0,\n   'maximum': 2.220978402953832},\n  'C18:1 chain [cytoplasm]': {'minimum': 0.0, 'maximum': 2.4464963680106653},\n  'C18:0 chain [cytoplasm]': {'minimum': 0.0,\n   'maximum': 4.537574733601005e-10},\n  'C16:1 chain [cytoplasm]': {'minimum': 0.0,\n   'maximum': 3.289927969042847e-10}},\n 'ceramide [Golgi]': {},\n 'phosphatidate [endoplasmic reticulum membrane]': {'C16:0 chain [cytoplasm]': {'minimum': 0.0,\n   'maximum': 7.3111836761447065e-25},\n  'C16:1 chain [cytoplasm]': {'minimum': 0.0,\n   'maximum': 7.363051592455005e-25},\n  'C18:1 chain [cytoplasm]': {'minimum': 0.0,\n   'maximum': 2.603585477181703e-25}},\n 'cardiolipin [mitochondrial membrane]': {'C16:0 chain [cytoplasm]': {'minimum': 0.0,\n   'maximum': 3.979045217042952e-28},\n  'C16:1 chain [cytoplasm]': {'minimum': 0.0,\n   'maximum': 2.9255309001667176e-28},\n  'C18:0 chain [cytoplasm]': {'minimum': 0.0,\n   'maximum': 3.2713055475969072e-28},\n  'C18:1 chain [cytoplasm]': {'minimum': 0.0,\n   'maximum': 5.4594967443203395e-28}}}"
     },
     "execution_count": 145,
     "metadata": {},
     "output_type": "execute_result"
    }
   ],
   "source": [
    "backbones_abundances"
   ],
   "metadata": {
    "collapsed": false,
    "pycharm": {
     "name": "#%%\n"
    }
   }
  },
  {
   "cell_type": "code",
   "execution_count": 10,
   "metadata": {
    "pycharm": {
     "name": "#%%\n"
    }
   },
   "outputs": [],
   "source": [
    "def getPatwhaysMap(model):\n",
    "    res = {}\n",
    "    for pathway in model.groups:\n",
    "        for reaction in pathway.members:\n",
    "            if reaction.id not in res.keys():\n",
    "                res[reaction.id] = pathway.name\n",
    "            else:\n",
    "                res[reaction.id] += \"; \" + pathway.name\n",
    "    return res\n",
    "\n",
    "def save_simulation(model, sol, filename, caption):\n",
    "    solution = pd.DataFrame(sol.fluxes.copy())\n",
    "    solution[\"Reaction Name\"] = [None for el in solution.index]\n",
    "    reaction_list = solution.index\n",
    "    for reaction in reaction_list:\n",
    "        reaction_name = model.reactions.get_by_id(reaction).name\n",
    "        solution[\"Reaction Name\"].loc[solution.index == reaction] = reaction_name\n",
    "    solution = solution.loc[round(solution[\"fluxes\"],3)!=0]\n",
    "    solution = solution.sort_values(by=\"fluxes\", axis=0)\n",
    "    map_path = getPatwhaysMap(model)\n",
    "    df = pd.DataFrame.from_dict(data = map_path, orient = 'index', columns = [\"Pathways\"])\n",
    "    final = solution.merge(df, left_index=True, right_index=True, how=\"left\")\n",
    "    final.to_excel(filename + \".xlsx\")\n",
    "    df = model.summary(sol).to_frame()\n",
    "    df = df.loc[df[\"flux\"] != 0]\n",
    "    df = df.drop([\"factor\"], axis=1)\n",
    "    df = df.sort_values(by=\"flux\", axis=0, ascending=False)\n",
    "    df.columns = [\"Reaction\", \"Metabolite\", \"Flux\"]\n",
    "    metabolites_list = df[\"Metabolite\"].tolist()\n",
    "    for met in metabolites_list:\n",
    "        df[\"Metabolite\"].loc[df[\"Metabolite\"] == met] = model.metabolites.get_by_id(df[\"Metabolite\"].loc[df[\"Metabolite\"] == met].values[0]).name\n",
    "    df_styled = df.style.hide_index().set_caption(caption).background_gradient()\n",
    "    dfi.export(df_styled, filename + \".tiff\")"
   ]
  },
  {
   "cell_type": "code",
   "execution_count": 13,
   "metadata": {
    "pycharm": {
     "name": "#%%\n"
    }
   },
   "outputs": [
    {
     "data": {
      "application/javascript": [
       "\n",
       "        if (window._pyforest_update_imports_cell) { window._pyforest_update_imports_cell('import pandas as pd'); }\n",
       "    "
      ],
      "text/plain": [
       "<IPython.core.display.Javascript object>"
      ]
     },
     "metadata": {},
     "output_type": "display_data"
    },
    {
     "name": "stderr",
     "output_type": "stream",
     "text": [
      "c:\\users\\bisbii\\onedrive - universidade do minho\\python scripts\\python36\\lib\\site-packages\\pandas\\core\\indexing.py:670: SettingWithCopyWarning: \n",
      "A value is trying to be set on a copy of a slice from a DataFrame\n",
      "\n",
      "See the caveats in the documentation: https://pandas.pydata.org/pandas-docs/stable/user_guide/indexing.html#returning-a-view-versus-a-copy\n",
      "  iloc._setitem_with_indexer(indexer, value)\n"
     ]
    },
    {
     "data": {
      "application/javascript": [
       "\n",
       "        if (window._pyforest_update_imports_cell) { window._pyforest_update_imports_cell('import pandas as pd'); }\n",
       "    "
      ],
      "text/plain": [
       "<IPython.core.display.Javascript object>"
      ]
     },
     "metadata": {},
     "output_type": "display_data"
    },
    {
     "name": "stderr",
     "output_type": "stream",
     "text": [
      "c:\\users\\bisbii\\onedrive - universidade do minho\\python scripts\\python36\\lib\\site-packages\\pandas\\core\\indexing.py:670: SettingWithCopyWarning: \n",
      "A value is trying to be set on a copy of a slice from a DataFrame\n",
      "\n",
      "See the caveats in the documentation: https://pandas.pydata.org/pandas-docs/stable/user_guide/indexing.html#returning-a-view-versus-a-copy\n",
      "  iloc._setitem_with_indexer(indexer, value)\n"
     ]
    }
   ],
   "source": [
    "save_simulation(model, sol, \"test\", \"a caption\")"
   ]
  },
  {
   "cell_type": "code",
   "execution_count": 16,
   "metadata": {
    "pycharm": {
     "name": "#%%\n"
    }
   },
   "outputs": [],
   "source": [
    "fva_pfba = fva.merge(sol.to_frame(), left_index=True, right_index=True)\n",
    "fva_pfba.to_csv(\"fva_solution.tsv\", sep=\"\\t\")\n",
    "fva_pfba"
   ]
  }
 ],
 "metadata": {
  "kernelspec": {
   "display_name": "Python 3",
   "language": "python",
   "name": "python3"
  },
  "language_info": {
   "codemirror_mode": {
    "name": "ipython",
    "version": 3
   },
   "file_extension": ".py",
   "mimetype": "text/x-python",
   "name": "python",
   "nbconvert_exporter": "python",
   "pygments_lexer": "ipython3",
   "version": "3.6.7"
  }
 },
 "nbformat": 4,
 "nbformat_minor": 4
}